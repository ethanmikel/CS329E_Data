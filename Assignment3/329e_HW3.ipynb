{
 "cells": [
  {
   "cell_type": "markdown",
   "metadata": {},
   "source": [
    "# Homework 3\n",
    "\n",
    "## Your Name Here (or your names here if you are pair programming)\n",
    "David Paul Salinas (dps2387), \n",
    "Ethan Mikel\n",
    "\n",
    "## Normal and t distributions\n",
    "## t-test\n"
   ]
  },
  {
   "cell_type": "markdown",
   "metadata": {},
   "source": [
    "An experiment was conducted to determine the effect of children participating in a given meal preparation on calorie intake for that meal. Data are recorded below. \n",
    "\n",
    "Save the data to a format that can be read into python. Read the data in for analysis. Data is provided in two separted CSV files. \n",
    "\n",
    "* Use python to calculate the quantities and generate the visual summaries requested below. You will lose points if you are not utilizing python.\n",
    "\n",
    "* You can use scipy libary or other libraries to do your tests or you can implement them from scratch in python \n",
    "\n"
   ]
  },
  {
   "cell_type": "code",
   "execution_count": 24,
   "metadata": {},
   "outputs": [],
   "source": [
    "# Standard Headers\n",
    "# You are welcome to add additional headers here if you wish\n",
    "import pandas as pd\n",
    "import numpy as np\n",
    "import matplotlib.pyplot as plt\n",
    "import scipy as sp\n",
    "\n",
    "# Enable inline mode for matplotlib so that Jupyter displays graphs\n",
    "%matplotlib inline"
   ]
  },
  {
   "cell_type": "markdown",
   "metadata": {},
   "source": [
    "# Question - 1\n",
    "Summarize the data by whether children participated in the meal preparation or not. Use an appropriately labelled table to show the results. Also include a graphical presentation that shows the distribution of calories for participants vs. non-participants. Describe the shape of each distribution and comment on the similarity (or lack thereof) between the distributions in each population. **(2 points)**\n",
    "\n",
    "Be aware that there is not one specific way the graph needs to look. Experiment with different types of graphs, and different parameters for the graph type. Your goal is to present the data as readable as possible. "
   ]
  },
  {
   "cell_type": "code",
   "execution_count": 25,
   "metadata": {},
   "outputs": [
    {
     "name": "stdout",
     "output_type": "stream",
     "text": [
      "              count unique              top freq\n",
      "participation                                   \n",
      "No               23     23  nonparticipants    1\n",
      "Yes              26     26     participants    1\n"
     ]
    },
    {
     "data": {
      "text/plain": [
       "<Figure size 800x500 with 0 Axes>"
      ]
     },
     "metadata": {},
     "output_type": "display_data"
    },
    {
     "data": {
      "image/png": "[encoded data removed]",
      "text/plain": [
       "<Figure size 640x480 with 1 Axes>"
      ]
     },
     "metadata": {},
     "output_type": "display_data"
    }
   ],
   "source": [
    "nonparticipants = pd.read_csv(\"nonparticipants.csv\", header=None, names=[\"calorie_intake\"])\n",
    "participants = pd.read_csv(\"participants.csv\", header=None, names=[\"calorie_intake\"])\n",
    "\n",
    "nonparticipants[\"participation\"] = \"No\"\n",
    "participants[\"participation\"] = \"Yes\"\n",
    "\n",
    "both_sets = pd.concat([nonparticipants, participants], ignore_index=True)\n",
    "print(both_sets.groupby(\"participation\")[\"calorie_intake\"].describe())\n",
    "\n",
    "both_sets[\"calorie_intake\"] = pd.to_numeric(both_sets[\"calorie_intake\"], errors=\"coerce\")\n",
    "\n",
    "plt.figure(figsize=(8,5))\n",
    "both_sets.boxplot(column=\"calorie_intake\", by=\"participation\", grid=False)\n",
    "plt.title(\"Calorie Intake by Participation in Meal Preparation\")\n",
    "plt.xlabel(\"Participation\")\n",
    "plt.ylabel(\"Calories\")\n",
    "plt.suptitle(\"\")\n",
    "plt.show()"
   ]
  },
  {
   "cell_type": "markdown",
   "metadata": {},
   "source": [
    "# Question - 2 \n",
    "\n",
    "Does the mean calorie consumption for those who participated in the meal preparation differ from **425**? Formally test at the $\\alpha = 0.05$ level using the 5 steps outlined in the module. **(6 points)**\n"
   ]
  },
  {
   "cell_type": "code",
   "execution_count": 26,
   "metadata": {},
   "outputs": [
    {
     "name": "stdout",
     "output_type": "stream",
     "text": [
      "Sample Mean: 410.0795999999999\n",
      "Sample Std Dev: 121.51378616848379\n",
      "t-statistic: -0.6260969487455772\n",
      "p-value: 0.536926382991219\n"
     ]
    }
   ],
   "source": [
    "participants_data = participants[\"calorie_intake\"]\n",
    "participants_data = pd.to_numeric(participants_data, errors=\"coerce\")\n",
    "\n",
    "sample_mean = participants_data.mean()\n",
    "sample_std = participants_data.std()\n",
    "n = len(participants_data)\n",
    "\n",
    "print(f\"Sample Mean: {sample_mean}\")\n",
    "print(f\"Sample Std Dev: {sample_std}\")\n",
    "\n",
    "mean_under_null = 425\n",
    "\n",
    "t_stat = (sample_mean - mean_under_null) / (sample_std / (n ** 0.5))\n",
    "p_val = 2 * sp.stats.t.cdf(-abs(t_stat), df=n-1)\n",
    "print(f\"t-statistic: {t_stat}\")\n",
    "print(f\"p-value: {p_val}\")"
   ]
  },
  {
   "cell_type": "markdown",
   "metadata": {},
   "source": [
    "With a t-statistic of -0.6261 and a p-value of 0.5369, the p-value is greater than the significance level (α = 0.05). Therefore, we fail to reject the null hypothesis."
   ]
  },
  {
   "cell_type": "markdown",
   "metadata": {},
   "source": [
    "# Question -3 \n",
    "Calculate a **90%** confidence interval for the mean calorie intake for participants in the meal preparation. Interpret the confidence interval. **(6 points)**"
   ]
  },
  {
   "cell_type": "code",
   "execution_count": 27,
   "metadata": {},
   "outputs": [
    {
     "name": "stdout",
     "output_type": "stream",
     "text": [
      "The 90% confidence interval is: (370.11, 450.05)\n"
     ]
    }
   ],
   "source": [
    "participants[\"calorie_intake\"] = pd.to_numeric(participants[\"calorie_intake\"], errors=\"coerce\")\n",
    "participants = participants.dropna(subset=[\"calorie_intake\"])\n",
    "\n",
    "sample_data = participants[\"calorie_intake\"]\n",
    "\n",
    "sample_mean = sample_data.mean()\n",
    "sample_std = sample_data.std()\n",
    "n = len(sample_data)\n",
    "\n",
    "standard_error = sample_std / np.sqrt(n)\n",
    "z_score = sp.stats.norm.ppf(1 - (1 - 0.9) / 2)\n",
    "margin_of_error = z_score * standard_error\n",
    "\n",
    "lower_bound = sample_mean - margin_of_error\n",
    "upper_bound = sample_mean + margin_of_error\n",
    "\n",
    "print(f\"The 90% confidence interval is: ({lower_bound:.2f}, {upper_bound:.2f})\")"
   ]
  },
  {
   "cell_type": "markdown",
   "metadata": {},
   "source": [
    "We are 90% confident that the true mean calorie intake for participants in the meal preparation program falls between 370.11 and 450.05 calories."
   ]
  },
  {
   "cell_type": "code",
   "execution_count": 28,
   "metadata": {},
   "outputs": [],
   "source": [
    "# Add your code or descriptions here "
   ]
  },
  {
   "cell_type": "markdown",
   "metadata": {},
   "source": [
    "# Question 4 \n",
    "Formally test whether or not participants consumed \n",
    "more calories than non-participants at the $\\alpha = 0.05$ level using the 5 steps procedure for hypothesis tests. **(6 points )**"
   ]
  },
  {
   "cell_type": "code",
   "execution_count": 29,
   "metadata": {},
   "outputs": [
    {
     "name": "stdout",
     "output_type": "stream",
     "text": [
      "t-statistic: 0.9715\n",
      "p-value: 0.1684\n"
     ]
    }
   ],
   "source": [
    "non_participants_data = nonparticipants[\"calorie_intake\"]\n",
    "\n",
    "if isinstance(non_participants_data.iloc[0], str):\n",
    "    non_participants_data = non_participants_data.str.split(r'[^0-9.]+', expand=True).stack()\n",
    "    non_participants_data = pd.to_numeric(non_participants_data, errors='coerce')\n",
    "\n",
    "non_participants_data = non_participants_data.dropna()\n",
    "\n",
    "mean_participants = participants_data.mean()\n",
    "std_participants = participants_data.std()\n",
    "n_participants = len(participants_data)\n",
    "\n",
    "mean_non_participants = non_participants_data.mean()\n",
    "std_non_participants = non_participants_data.std()\n",
    "n_non_participants = len(non_participants_data)\n",
    "\n",
    "se_diff = np.sqrt((std_participants ** 2 / n_participants) + (std_non_participants ** 2 / n_non_participants))\n",
    "\n",
    "t_stat = (mean_participants - mean_non_participants) / se_diff\n",
    "\n",
    "df = ((std_participants ** 2 / n_participants + std_non_participants ** 2 / n_non_participants) ** 2) / \\\n",
    "     (((std_participants ** 2 / n_participants) ** 2 / (n_participants - 1)) + \\\n",
    "      ((std_non_participants ** 2 / n_non_participants) ** 2 / (n_non_participants - 1)))\n",
    "\n",
    "p_value = 1 - sp.stats.t.cdf(t_stat, df)\n",
    "\n",
    "print(f\"t-statistic: {t_stat:.4f}\")\n",
    "print(f\"p-value: {p_value:.4f}\")"
   ]
  },
  {
   "cell_type": "markdown",
   "metadata": {},
   "source": [
    "Based on the hypothesis test, we obtained a t-statistic of 0.9715 and a p-value of 0.1684. Since the p-value is greater than the significance level (α = 0.05), we fail to reject the null hypothesis."
   ]
  },
  {
   "cell_type": "code",
   "execution_count": null,
   "metadata": {},
   "outputs": [],
   "source": []
  }
 ],
 "metadata": {
  "kernelspec": {
   "display_name": "Python (myenv)",
   "language": "python",
   "name": "myenv"
  },
  "language_info": {
   "codemirror_mode": {
    "name": "ipython",
    "version": 3
   },
   "file_extension": ".py",
   "mimetype": "text/x-python",
   "name": "python",
   "nbconvert_exporter": "python",
   "pygments_lexer": "ipython3",
   "version": "3.13.1"
  }
 },
 "nbformat": 4,
 "nbformat_minor": 4
}
