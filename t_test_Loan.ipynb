{
 "cells": [
  {
   "cell_type": "markdown",
   "metadata": {
    "id": "xcxAt7KqeymW"
   },
   "source": [
    "\n",
    " ## Loan Status Dataset\n",
    "In this Dataset, we have the data of applicants who previously applied for the loan based on the property which is a Property Loan.\n",
    "\n",
    "The bank will decide whether to give a loan to the applicant based on some factors such as Applicant Income, Loan Amount, previous\n",
    "Credit History, Co-applicant Income, etc…\n",
    "\n",
    "\n",
    "About the loan_data.csv file:\n",
    "\n",
    " * Loan_ID: A unique loan ID.\n",
    " * Gender: Either male or female.\n",
    " * Married: Weather Married(yes) or Not Marttied(No).\n",
    " * Dependents: Number of persons depending on the client.\n",
    " * Education: Applicant Education(Graduate or Undergraduate).\n",
    " * Self_Employed: Self-employed (Yes/No).\n",
    " * ApplicantIncome: Applicant income.\n",
    " * CoapplicantIncome: Co-applicant income.\n",
    " * LoanAmount: Loan amount in thousands.\n",
    " * Loan_Amount_Term: Terms of the loan in months.\n",
    " * Credit_History: Credit history meets guidelines.\n",
    " * Property_Area: Applicants are living either Urban, Semi-Urban or Rural.\n",
    " * Loan_Status: Loan approved (Y/N).\n",
    "\n",
    "https://www.kaggle.com/datasets/bhavikjikadara/loan-status-prediction"
   ]
  },
  {
   "cell_type": "code",
   "execution_count": 3,
   "metadata": {
    "colab": {
     "base_uri": "https://localhost:8080/"
    },
    "id": "BCL8S-QTfNQ7",
    "outputId": "732f97e6-3216-462f-c10b-0aedd7bb3beb"
   },
   "outputs": [
    {
     "name": "stdout",
     "output_type": "stream",
     "text": [
      "Numpy version:  2.2.2\n",
      "Pandas version:  2.2.3\n",
      "Scipy version:  1.15.1\n"
     ]
    }
   ],
   "source": [
    "import numpy as np\n",
    "import pandas as pd\n",
    "\n",
    "import scipy.stats as stats\n",
    "from scipy.stats import t\n",
    "from scipy import stats\n",
    "from matplotlib import pyplot\n",
    "import matplotlib.pyplot as plt\n",
    "import scipy\n",
    "\n",
    "print(\"Numpy version: \", np.__version__)\n",
    "print(\"Pandas version: \", pd.__version__)\n",
    "print(\"Scipy version: \", scipy.__version__)"
   ]
  },
  {
   "cell_type": "code",
   "execution_count": 4,
   "metadata": {
    "colab": {
     "base_uri": "https://localhost:8080/",
     "height": 423
    },
    "id": "IopIAJYbezOB",
    "outputId": "9615c27f-c306-4c8a-d5c5-6f4ba3fe6adb"
   },
   "outputs": [
    {
     "data": {
      "text/html": [
       "<div>\n",
       "<style scoped>\n",
       "    .dataframe tbody tr th:only-of-type {\n",
       "        vertical-align: middle;\n",
       "    }\n",
       "\n",
       "    .dataframe tbody tr th {\n",
       "        vertical-align: top;\n",
       "    }\n",
       "\n",
       "    .dataframe thead th {\n",
       "        text-align: right;\n",
       "    }\n",
       "</style>\n",
       "<table border=\"1\" class=\"dataframe\">\n",
       "  <thead>\n",
       "    <tr style=\"text-align: right;\">\n",
       "      <th></th>\n",
       "      <th>Loan_ID</th>\n",
       "      <th>Gender</th>\n",
       "      <th>Married</th>\n",
       "      <th>Dependents</th>\n",
       "      <th>Education</th>\n",
       "      <th>Self_Employed</th>\n",
       "      <th>ApplicantIncome</th>\n",
       "      <th>CoapplicantIncome</th>\n",
       "      <th>LoanAmount</th>\n",
       "      <th>Loan_Amount_Term</th>\n",
       "      <th>Credit_History</th>\n",
       "      <th>Property_Area</th>\n",
       "      <th>Loan_Status</th>\n",
       "    </tr>\n",
       "  </thead>\n",
       "  <tbody>\n",
       "    <tr>\n",
       "      <th>0</th>\n",
       "      <td>LP001003</td>\n",
       "      <td>Male</td>\n",
       "      <td>Yes</td>\n",
       "      <td>1</td>\n",
       "      <td>Graduate</td>\n",
       "      <td>No</td>\n",
       "      <td>4583</td>\n",
       "      <td>1508.0</td>\n",
       "      <td>128.0</td>\n",
       "      <td>360.0</td>\n",
       "      <td>1.0</td>\n",
       "      <td>Rural</td>\n",
       "      <td>N</td>\n",
       "    </tr>\n",
       "    <tr>\n",
       "      <th>1</th>\n",
       "      <td>LP001005</td>\n",
       "      <td>Male</td>\n",
       "      <td>Yes</td>\n",
       "      <td>0</td>\n",
       "      <td>Graduate</td>\n",
       "      <td>Yes</td>\n",
       "      <td>3000</td>\n",
       "      <td>0.0</td>\n",
       "      <td>66.0</td>\n",
       "      <td>360.0</td>\n",
       "      <td>1.0</td>\n",
       "      <td>Urban</td>\n",
       "      <td>Y</td>\n",
       "    </tr>\n",
       "    <tr>\n",
       "      <th>2</th>\n",
       "      <td>LP001006</td>\n",
       "      <td>Male</td>\n",
       "      <td>Yes</td>\n",
       "      <td>0</td>\n",
       "      <td>Not Graduate</td>\n",
       "      <td>No</td>\n",
       "      <td>2583</td>\n",
       "      <td>2358.0</td>\n",
       "      <td>120.0</td>\n",
       "      <td>360.0</td>\n",
       "      <td>1.0</td>\n",
       "      <td>Urban</td>\n",
       "      <td>Y</td>\n",
       "    </tr>\n",
       "    <tr>\n",
       "      <th>3</th>\n",
       "      <td>LP001008</td>\n",
       "      <td>Male</td>\n",
       "      <td>No</td>\n",
       "      <td>0</td>\n",
       "      <td>Graduate</td>\n",
       "      <td>No</td>\n",
       "      <td>6000</td>\n",
       "      <td>0.0</td>\n",
       "      <td>141.0</td>\n",
       "      <td>360.0</td>\n",
       "      <td>1.0</td>\n",
       "      <td>Urban</td>\n",
       "      <td>Y</td>\n",
       "    </tr>\n",
       "    <tr>\n",
       "      <th>4</th>\n",
       "      <td>LP001013</td>\n",
       "      <td>Male</td>\n",
       "      <td>Yes</td>\n",
       "      <td>0</td>\n",
       "      <td>Not Graduate</td>\n",
       "      <td>No</td>\n",
       "      <td>2333</td>\n",
       "      <td>1516.0</td>\n",
       "      <td>95.0</td>\n",
       "      <td>360.0</td>\n",
       "      <td>1.0</td>\n",
       "      <td>Urban</td>\n",
       "      <td>Y</td>\n",
       "    </tr>\n",
       "    <tr>\n",
       "      <th>...</th>\n",
       "      <td>...</td>\n",
       "      <td>...</td>\n",
       "      <td>...</td>\n",
       "      <td>...</td>\n",
       "      <td>...</td>\n",
       "      <td>...</td>\n",
       "      <td>...</td>\n",
       "      <td>...</td>\n",
       "      <td>...</td>\n",
       "      <td>...</td>\n",
       "      <td>...</td>\n",
       "      <td>...</td>\n",
       "      <td>...</td>\n",
       "    </tr>\n",
       "    <tr>\n",
       "      <th>376</th>\n",
       "      <td>LP002953</td>\n",
       "      <td>Male</td>\n",
       "      <td>Yes</td>\n",
       "      <td>3+</td>\n",
       "      <td>Graduate</td>\n",
       "      <td>No</td>\n",
       "      <td>5703</td>\n",
       "      <td>0.0</td>\n",
       "      <td>128.0</td>\n",
       "      <td>360.0</td>\n",
       "      <td>1.0</td>\n",
       "      <td>Urban</td>\n",
       "      <td>Y</td>\n",
       "    </tr>\n",
       "    <tr>\n",
       "      <th>377</th>\n",
       "      <td>LP002974</td>\n",
       "      <td>Male</td>\n",
       "      <td>Yes</td>\n",
       "      <td>0</td>\n",
       "      <td>Graduate</td>\n",
       "      <td>No</td>\n",
       "      <td>3232</td>\n",
       "      <td>1950.0</td>\n",
       "      <td>108.0</td>\n",
       "      <td>360.0</td>\n",
       "      <td>1.0</td>\n",
       "      <td>Rural</td>\n",
       "      <td>Y</td>\n",
       "    </tr>\n",
       "    <tr>\n",
       "      <th>378</th>\n",
       "      <td>LP002978</td>\n",
       "      <td>Female</td>\n",
       "      <td>No</td>\n",
       "      <td>0</td>\n",
       "      <td>Graduate</td>\n",
       "      <td>No</td>\n",
       "      <td>2900</td>\n",
       "      <td>0.0</td>\n",
       "      <td>71.0</td>\n",
       "      <td>360.0</td>\n",
       "      <td>1.0</td>\n",
       "      <td>Rural</td>\n",
       "      <td>Y</td>\n",
       "    </tr>\n",
       "    <tr>\n",
       "      <th>379</th>\n",
       "      <td>LP002979</td>\n",
       "      <td>Male</td>\n",
       "      <td>Yes</td>\n",
       "      <td>3+</td>\n",
       "      <td>Graduate</td>\n",
       "      <td>No</td>\n",
       "      <td>4106</td>\n",
       "      <td>0.0</td>\n",
       "      <td>40.0</td>\n",
       "      <td>180.0</td>\n",
       "      <td>1.0</td>\n",
       "      <td>Rural</td>\n",
       "      <td>Y</td>\n",
       "    </tr>\n",
       "    <tr>\n",
       "      <th>380</th>\n",
       "      <td>LP002990</td>\n",
       "      <td>Female</td>\n",
       "      <td>No</td>\n",
       "      <td>0</td>\n",
       "      <td>Graduate</td>\n",
       "      <td>Yes</td>\n",
       "      <td>4583</td>\n",
       "      <td>0.0</td>\n",
       "      <td>133.0</td>\n",
       "      <td>360.0</td>\n",
       "      <td>0.0</td>\n",
       "      <td>Semiurban</td>\n",
       "      <td>N</td>\n",
       "    </tr>\n",
       "  </tbody>\n",
       "</table>\n",
       "<p>381 rows × 13 columns</p>\n",
       "</div>"
      ],
      "text/plain": [
       "      Loan_ID  Gender Married Dependents     Education Self_Employed  \\\n",
       "0    LP001003    Male     Yes          1      Graduate            No   \n",
       "1    LP001005    Male     Yes          0      Graduate           Yes   \n",
       "2    LP001006    Male     Yes          0  Not Graduate            No   \n",
       "3    LP001008    Male      No          0      Graduate            No   \n",
       "4    LP001013    Male     Yes          0  Not Graduate            No   \n",
       "..        ...     ...     ...        ...           ...           ...   \n",
       "376  LP002953    Male     Yes         3+      Graduate            No   \n",
       "377  LP002974    Male     Yes          0      Graduate            No   \n",
       "378  LP002978  Female      No          0      Graduate            No   \n",
       "379  LP002979    Male     Yes         3+      Graduate            No   \n",
       "380  LP002990  Female      No          0      Graduate           Yes   \n",
       "\n",
       "     ApplicantIncome  CoapplicantIncome  LoanAmount  Loan_Amount_Term  \\\n",
       "0               4583             1508.0       128.0             360.0   \n",
       "1               3000                0.0        66.0             360.0   \n",
       "2               2583             2358.0       120.0             360.0   \n",
       "3               6000                0.0       141.0             360.0   \n",
       "4               2333             1516.0        95.0             360.0   \n",
       "..               ...                ...         ...               ...   \n",
       "376             5703                0.0       128.0             360.0   \n",
       "377             3232             1950.0       108.0             360.0   \n",
       "378             2900                0.0        71.0             360.0   \n",
       "379             4106                0.0        40.0             180.0   \n",
       "380             4583                0.0       133.0             360.0   \n",
       "\n",
       "     Credit_History Property_Area Loan_Status  \n",
       "0               1.0         Rural           N  \n",
       "1               1.0         Urban           Y  \n",
       "2               1.0         Urban           Y  \n",
       "3               1.0         Urban           Y  \n",
       "4               1.0         Urban           Y  \n",
       "..              ...           ...         ...  \n",
       "376             1.0         Urban           Y  \n",
       "377             1.0         Rural           Y  \n",
       "378             1.0         Rural           Y  \n",
       "379             1.0         Rural           Y  \n",
       "380             0.0     Semiurban           N  \n",
       "\n",
       "[381 rows x 13 columns]"
      ]
     },
     "execution_count": 4,
     "metadata": {},
     "output_type": "execute_result"
    }
   ],
   "source": [
    "# !wget https://raw.githubusercontent.com/kiat/Elements-of-Data-Analytics/refs/heads/main/datasets/loan_data.csv\n",
    "loans = pd.read_csv(\"https://raw.githubusercontent.com/kiat/Elements-of-Data-Analytics/refs/heads/main/datasets/loan_data.csv\")\n",
    "\n",
    "loans"
   ]
  },
  {
   "cell_type": "markdown",
   "metadata": {
    "id": "9MmJdQ6NJyzb"
   },
   "source": [
    "# You should use standard alpha Level for all tests, $$\\alpha =0.05$$"
   ]
  },
  {
   "cell_type": "markdown",
   "metadata": {
    "id": "9XXOv848mLj-"
   },
   "source": [
    "## Task 1: Testing if the Mean Applicant Income is Less to a Specific Value\n",
    "\n",
    "**Objective**: Determine if the mean ApplicantIncome is significantly less than $5,000.\n",
    "\n",
    "**Parameter**: ApplicantIncome (continuous variable).\n",
    "\n",
    "Write down what is the Hypothesis for this test, and follow the **5-Steps** for this test.\n"
   ]
  },
  {
   "cell_type": "code",
   "execution_count": null,
   "metadata": {
    "id": "f8vGfZgWmZAT"
   },
   "outputs": [],
   "source": [
    "The mean ApplicantIncome is greater than or equal to $5,000\n"
   ]
  },
  {
   "cell_type": "code",
   "execution_count": 14,
   "metadata": {
    "id": "QDePiCIJDT1c"
   },
   "outputs": [
    {
     "name": "stdout",
     "output_type": "stream",
     "text": [
      "T-Statistic: -19.52390978651093\n",
      "P-Value: 1.0\n"
     ]
    }
   ],
   "source": [
    "loan_applicants_np = np.array(loans[\"ApplicantIncome\"].dropna())\n",
    "\n",
    "results = stats.ttest_1samp(loan_applicants_np, 5000, alternative=\"greater\")\n",
    "\n",
    "print(\"T-Statistic:\", results.statistic)\n",
    "print(\"P-Value:\", results.pvalue)"
   ]
  },
  {
   "cell_type": "markdown",
   "metadata": {
    "id": "F7z-svIj_0iQ"
   },
   "source": [
    "Since p-value (1.0) > α (0.05), we fail to reject the null hypothesis."
   ]
  },
  {
   "cell_type": "markdown",
   "metadata": {
    "id": "Jo4HSGmOmZqn"
   },
   "source": [
    "\n",
    "## Task 2: Testing if the Mean Loan Amount is Equal to a Specific Value\n",
    "\n",
    "**Objective**: Determine if the mean LoanAmount is significantly different from a specific value (e.g., $150,000).\n",
    "\n",
    "**Parameter**: LoanAmount (continuous variable).\n",
    "\n",
    "Write down what is the Hypothesis for this test.\n",
    "\n"
   ]
  },
  {
   "cell_type": "code",
   "execution_count": 25,
   "metadata": {
    "colab": {
     "base_uri": "https://localhost:8080/"
    },
    "id": "N5RogEHnml9p",
    "outputId": "a03fab0d-3f73-4f74-81b2-9e2e895cbdac"
   },
   "outputs": [
    {
     "name": "stdout",
     "output_type": "stream",
     "text": [
      "T-Statistic: -103173.21740307685\n",
      "P-Value: 0.0\n"
     ]
    }
   ],
   "source": [
    "#The mean LoanAmount is equal to $150,000.\n",
    "\n",
    "loan_amounts_np = np.array(loans[\"LoanAmount\"].dropna())\n",
    "\n",
    "results = stats.ttest_1samp(loan_amounts_np, 150000, alternative=\"two-sided\")\n",
    "\n",
    "print(\"T-Statistic:\", results.statistic)\n",
    "print(\"P-Value:\", results.pvalue)\n",
    "\n",
    "#Since p-value (0.0) < α (0.05), we fail to reject the null hypothesis."
   ]
  },
  {
   "cell_type": "markdown",
   "metadata": {
    "id": "88U3K5hXmmVS"
   },
   "source": [
    "\n",
    "## Task 3. Testing if the Mean Coapplicant Income is Equal to a Specific Value\n",
    "**Objective**: Determine if the mean CoapplicantIncome is significantly different from a specific value (e.g., $2,000).\n",
    "\n",
    "**Parameter**: CoapplicantIncome (continuous variable).\n"
   ]
  },
  {
   "cell_type": "code",
   "execution_count": 28,
   "metadata": {
    "id": "fp6WRDermnn7"
   },
   "outputs": [
    {
     "name": "stdout",
     "output_type": "stream",
     "text": [
      "T-Statistic: -6.026534782830277\n",
      "P-Value: 3.9637504997059595e-09\n"
     ]
    }
   ],
   "source": [
    "#The mean CoapplicantIncome is equal to $2,000.\n",
    "\n",
    "coapplicant_income_np = np.array(loans[\"CoapplicantIncome\"].dropna())\n",
    "\n",
    "results = stats.ttest_1samp(coapplicant_income_np, 2000)\n",
    "\n",
    "print(\"T-Statistic:\", results.statistic)\n",
    "print(\"P-Value:\", results.pvalue)\n",
    "\n",
    "#Since p-value (effectively 1) > α (0.05), we reject the null hypothesis."
   ]
  },
  {
   "cell_type": "markdown",
   "metadata": {
    "id": "4WyLU71wmn-W"
   },
   "source": [
    "\n",
    "## Task  4. Testing if the Mean Loan Amount Term is Equal to a Specific Value\n",
    "**Objective**: Determine if the mean Loan_Amount_Term is significantly different from a specific value (e.g., 360 months).\n",
    "\n",
    "**Parameter**: Loan_Amount_Term (continuous variable).\n",
    "\n"
   ]
  },
  {
   "cell_type": "code",
   "execution_count": 61,
   "metadata": {
    "id": "qarnXEBJmqRA"
   },
   "outputs": [
    {
     "name": "stdout",
     "output_type": "stream",
     "text": [
      "T-Statistic: -5.369448022734259\n",
      "P-Value: 1.4000800135407544e-07\n"
     ]
    }
   ],
   "source": [
    "#The mean Loan_Amount_Term is equal to 360 months.\n",
    "\n",
    "loan_amount_term_np = np.array(loans[\"Loan_Amount_Term\"].dropna())\n",
    "\n",
    "results = stats.ttest_1samp(loan_amount_term_np, 360)\n",
    "\n",
    "print(\"T-Statistic:\", results.statistic)\n",
    "print(\"P-Value:\", results.pvalue)\n",
    "\n",
    "#Since the p-value (1.40-7) < α (0.05), we reject the null hypothesis."
   ]
  },
  {
   "cell_type": "markdown",
   "metadata": {
    "id": "p1Gg5327f3Vx"
   },
   "source": [
    "## Task 5. Comparing Applicant Income by Gender\n",
    "\n",
    "**Task Description:**\n",
    "\n",
    "**Objective**: Determine if there is a significant difference in the mean income of male and female loan applicants.\n",
    "\n",
    "\n",
    "\n",
    "**Null Hypothesis (H₀):** There is no significant difference in the mean income between Males and Femails.\n",
    "\n",
    "**Alternative Hypothesis (H₁):** There is a significant difference in the mean income bbetween Males and Femails.\n",
    "\n",
    "**Attribute to Use:** income (continuous) and Gender (between Males and Femails).\n",
    "\n",
    "**Steps:**\n",
    "\n",
    "Split the dataset into two groups based on Gender (Male and Female).\n",
    "\n",
    "\n",
    "* Check for normality in the ApplicantIncome distribution for both groups (e.g., using visual inspection with histograms).\n",
    "* Perform an independent two-sample t-test to compare the mean ApplicantIncome between males and females.\n",
    "* Interpret the p-value: If p < 0.05, reject the null hypothesis and conclude that there is a significant difference in income between genders.\n"
   ]
  },
  {
   "cell_type": "code",
   "execution_count": 70,
   "metadata": {
    "id": "V3vcVvzZf4Ld"
   },
   "outputs": [
    {
     "data": {
      "image/png": "[encoded data removed]",
      "text/plain": [
       "<Figure size 1000x500 with 1 Axes>"
      ]
     },
     "metadata": {},
     "output_type": "display_data"
    },
    {
     "name": "stdout",
     "output_type": "stream",
     "text": [
      "T-Statistic: 0.7239\n",
      "P-Value: 0.4703\n"
     ]
    }
   ],
   "source": [
    "male_income = loans[loans[\"Gender\"] == \"Male\"][\"ApplicantIncome\"].dropna()\n",
    "female_income = loans[loans[\"Gender\"] == \"Female\"][\"ApplicantIncome\"].dropna()\n",
    "\n",
    "t_stat, p_value = stats.ttest_ind(male_income, female_income, equal_var=False)  # Welch's t-test\n",
    "\n",
    "plt.figure(figsize=(10, 5))\n",
    "plt.hist(male_income, bins=30, alpha=0.5, label=\"Male\", color=\"blue\", edgecolor=\"black\")\n",
    "plt.hist(female_income, bins=30, alpha=0.5, label=\"Female\", color=\"red\", edgecolor=\"black\")\n",
    "plt.legend()\n",
    "plt.xlabel(\"Applicant Income\")\n",
    "plt.ylabel(\"Frequency\")\n",
    "plt.title(\"Distribution of Applicant Income by Gender\")\n",
    "plt.show()\n",
    "\n",
    "print(f\"T-Statistic: {t_stat:.4f}\")\n",
    "print(f\"P-Value: {p_value:.4f}\")\n",
    "\n",
    "#Fail to reject the null hypothesis: No significant difference in mean income between males and females."
   ]
  },
  {
   "cell_type": "markdown",
   "metadata": {
    "id": "6gJ3Os7Igfsa"
   },
   "source": [
    "## Task 6. Comparing Loan Amount by Education Level\n",
    "\n",
    "\n",
    "**Objective:** Determine if there is a significant difference in the mean loan amount requested by graduates and undergraduates.\n",
    "\n",
    "\n",
    "**Null Hypothesis (H₀):** There is no significant difference in the mean LoanAmount between Graduates and Undergraduates.\n",
    "\n",
    "**Alternative Hypothesis (H₁):** There is a significant difference in the mean LoanAmount between Graduates and Undergraduates.\n",
    "\n",
    "**Attribute to Use:** LoanAmount (continuous) and Education (categorical with two levels: Graduate and Undergraduate).\n",
    "\n"
   ]
  },
  {
   "cell_type": "code",
   "execution_count": 63,
   "metadata": {
    "id": "x3u8tfcAgmEE"
   },
   "outputs": [
    {
     "name": "stdout",
     "output_type": "stream",
     "text": [
      "T-Statistic: 0.2414\n",
      "P-Value: 0.8095\n"
     ]
    }
   ],
   "source": [
    "graduate_loans = loans[loans[\"Education\"] == \"Graduate\"][\"LoanAmount\"].dropna()\n",
    "undergraduate_loans = loans[loans[\"Education\"] == \"Not Graduate\"][\"LoanAmount\"].dropna()\n",
    "\n",
    "t_stat, p_value = stats.ttest_ind(graduate_loans, undergraduate_loans, equal_var=False)  # Welch’s t-test\n",
    "\n",
    "print(f\"T-Statistic: {t_stat:.4f}\")\n",
    "print(f\"P-Value: {p_value:.4f}\")\n",
    "\n",
    "#Fail to reject the null hypothesis: No significant difference in mean LoanAmount between Graduates and Undergraduates."
   ]
  },
  {
   "cell_type": "markdown",
   "metadata": {
    "id": "XGAVDP2Rh8a7"
   },
   "source": [
    "## Task 7: Comparing Coapplicant Income by Loan Status\n",
    "Task Description:\n",
    "\n",
    "**Objective:** Determine if there is a significant difference in the mean coapplicant income between applicants who were approved for a loan and those who were not.\n",
    "\n",
    "**Null Hypothesis (H₀):** There is no significant difference in the mean CoapplicantIncome between applicants who were approved for a loan and those who were not.\n",
    "\n",
    "**Alternative Hypothesis (H₁):** There is a significant difference in the mean CoapplicantIncome between applicants who were approved for a loan and those who were not.\n",
    "\n",
    "**Attribute to Use:** CoapplicantIncome (continuous) and Loan_Status (categorical with two levels: Y and N).\n",
    "\n"
   ]
  },
  {
   "cell_type": "code",
   "execution_count": 66,
   "metadata": {
    "id": "AiIw4sociIrA"
   },
   "outputs": [
    {
     "name": "stdout",
     "output_type": "stream",
     "text": [
      "Approved Mean Coapplicant Income: 1290.70\n",
      "Not Approved Mean Coapplicant Income: 1244.19\n",
      "T-Statistic: 0.1360\n",
      "P-Value: 0.8921\n"
     ]
    }
   ],
   "source": [
    "loans[\"CoapplicantIncome\"] = pd.to_numeric(loans[\"CoapplicantIncome\"], errors=\"coerce\")\n",
    "loans = loans.dropna(subset=[\"CoapplicantIncome\", \"Loan_Status\"])\n",
    "\n",
    "approved = loans[loans[\"Loan_Status\"] == \"Y\"][\"CoapplicantIncome\"]\n",
    "not_approved = loans[loans[\"Loan_Status\"] == \"N\"][\"CoapplicantIncome\"]\n",
    "\n",
    "print(f\"Approved Mean Coapplicant Income: {approved.mean():.2f}\")\n",
    "print(f\"Not Approved Mean Coapplicant Income: {not_approved.mean():.2f}\")\n",
    "\n",
    "t_stat, p_value = stats.ttest_ind(approved, not_approved, equal_var=False)\n",
    "\n",
    "print(f\"T-Statistic: {t_stat:.4f}\")\n",
    "print(f\"P-Value: {p_value:.4f}\")\n",
    "\n",
    "# Fail to reject the null hypothesis: No significant difference in mean CoapplicantIncome between loan-approved and non-approved applicants."
   ]
  },
  {
   "cell_type": "markdown",
   "metadata": {
    "id": "ZqtqlAfdiUP6"
   },
   "source": [
    "# Task 8: Comparing Loan Amount by Property Area\n",
    "\n",
    "**Objective:** Determine if there is a significant difference in the mean loan amount requested by applicants living in urban and rural areas.\n",
    "\n",
    "\n",
    "**Null Hypothesis (H₀):** There is no significant difference in the mean LoanAmount between applicants living in Urban and Rural areas.\n",
    "\n",
    "**Alternative Hypothesis (H₁):** There is a significant difference in the mean LoanAmount between applicants living in Urban and Rural areas.\n",
    "\n",
    "**Attribute to Use:** LoanAmount (continuous) and Property_Area (categorical with two levels: Urban and Rural)."
   ]
  },
  {
   "cell_type": "code",
   "execution_count": 69,
   "metadata": {
    "id": "mDRYlguniNLM"
   },
   "outputs": [
    {
     "name": "stdout",
     "output_type": "stream",
     "text": [
      "Urban Mean Loan Amount: 98.40\n",
      "Rural Mean Loan Amount: 110.26\n",
      "T-Statistic: -3.2021\n",
      "P-Value: 0.0016\n"
     ]
    }
   ],
   "source": [
    "loans[\"LoanAmount\"] = pd.to_numeric(loans[\"LoanAmount\"], errors=\"coerce\")\n",
    "loans = loans.dropna(subset=[\"LoanAmount\", \"Property_Area\"])\n",
    "\n",
    "urban = loans[loans[\"Property_Area\"] == \"Urban\"][\"LoanAmount\"]\n",
    "rural = loans[loans[\"Property_Area\"] == \"Rural\"][\"LoanAmount\"]\n",
    "\n",
    "print(f\"Urban Mean Loan Amount: {urban.mean():.2f}\")\n",
    "print(f\"Rural Mean Loan Amount: {rural.mean():.2f}\")\n",
    "\n",
    "t_stat, p_value = stats.ttest_ind(urban, rural, equal_var=False)\n",
    "\n",
    "print(f\"T-Statistic: {t_stat:.4f}\")\n",
    "print(f\"P-Value: {p_value:.4f}\")\n",
    "\n",
    "# Reject the null hypothesis: There is a significant difference in mean LoanAmount between applicants in Urban and Rural areas."
   ]
  },
  {
   "cell_type": "markdown",
   "metadata": {
    "id": "jXKL0zFdim8Z"
   },
   "source": [
    "## Task 9: Comparing Applicant Income by Self-Employment Status\n",
    "\n",
    "\n",
    "**Objective:** Determine if there is a significant difference in the mean income of self-employed and non-self-employed applicants.\n",
    "\n",
    "Write down the Hypothesis for this task.\n",
    "\n",
    "**Attribute to Use:** ApplicantIncome (continuous) and Self_Employed (categorical with two levels: Yes and No).\n",
    "\n"
   ]
  },
  {
   "cell_type": "code",
   "execution_count": 85,
   "metadata": {
    "id": "RDGi4Wg-il2K"
   },
   "outputs": [
    {
     "name": "stdout",
     "output_type": "stream",
     "text": [
      "T-Statistic: 3.4956\n",
      "P-Value: 0.0012\n"
     ]
    }
   ],
   "source": [
    "self_employed = loans[loans[\"Self_Employed\"] == \"Yes\"][\"ApplicantIncome\"].dropna()\n",
    "non_self_employed = loans[loans[\"Self_Employed\"] == \"No\"][\"ApplicantIncome\"].dropna()\n",
    "\n",
    "n1, n2 = len(self_employed), len(non_self_employed)\n",
    "\n",
    "mean1, mean2 = np.mean(self_employed), np.mean(non_self_employed)\n",
    "std1, std2 = np.std(self_employed, ddof=1), np.std(non_self_employed, ddof=1)\n",
    "\n",
    "t_stat, p_value = stats.ttest_ind(self_employed, non_self_employed, equal_var=False)\n",
    "\n",
    "print(f\"T-Statistic: {t_stat:.4f}\")\n",
    "print(f\"P-Value: {p_value:.4f}\")\n",
    "\n",
    "# Reject the null hypothesis: There is a significant difference in ApplicantIncome between self-employed and non-self-employed applicants."
   ]
  },
  {
   "cell_type": "markdown",
   "metadata": {
    "id": "DidHxZFyjL3z"
   },
   "source": [
    "## Task 10:  Comparing Loan Amount by Credit History\n",
    "\n",
    "**Objective:** Determine if there is a significant difference in the mean loan amount requested by applicants with a credit history that meets guidelines and those who do not.\n",
    "\n",
    "**Attribute to Use:** LoanAmount (continuous) and Credit_History (categorical with two levels: 1 (meets guidelines) and 0 (does not meet guidelines))."
   ]
  },
  {
   "cell_type": "code",
   "execution_count": 77,
   "metadata": {
    "id": "2JDsXH9QjVb8"
   },
   "outputs": [
    {
     "name": "stdout",
     "output_type": "stream",
     "text": [
      "T-Statistic: -1.0320\n",
      "P-Value: 0.3047\n",
      "Fail to reject the null hypothesis: There is no significant difference in LoanAmount between applicants who meet credit history guidelines and those who do not.\n"
     ]
    }
   ],
   "source": [
    " pd\n",
    "\n",
    "# Assuming 'df' is your DataFrame containing the data\n",
    "meets_guidelines = loans[loans[\"Credit_History\"] == 1][\"LoanAmount\"].dropna()\n",
    "does_not_meet_guidelines = loans[loans[\"Credit_History\"] == 0][\"LoanAmount\"].dropna()\n",
    "\n",
    "# Check sample sizes\n",
    "n1, n2 = len(meets_guidelines), len(does_not_meet_guidelines)\n",
    "\n",
    "# Compute means and standard deviations\n",
    "mean1, mean2 = np.mean(meets_guidelines), np.mean(does_not_meet_guidelines)\n",
    "std1, std2 = np.std(meets_guidelines, ddof=1), np.std(does_not_meet_guidelines, ddof=1)\n",
    "\n",
    "# Perform independent t-test\n",
    "t_stat, p_value = stats.ttest_ind(meets_guidelines, does_not_meet_guidelines, equal_var=False)\n",
    "\n",
    "print(f\"T-Statistic: {t_stat:.4f}\")\n",
    "print(f\"P-Value: {p_value:.4f}\")\n",
    "\n",
    "# Fail to reject the null hypothesis: There is no significant difference in LoanAmount between applicants who meet credit history guidelines and those who do not."
   ]
  },
  {
   "cell_type": "markdown",
   "metadata": {
    "id": "N3z0LNbRjY7p"
   },
   "source": [
    "## Task 11: Comparing Loan Amount by Marital Status\n",
    "\n",
    "\n",
    "**Objective:** Determine if there is a significant difference in the mean loan amount requested by married and unmarried applicants.\n",
    "\n",
    "**Attribute to Use:** LoanAmount (continuous) and Married (categorical with two levels: Yes and No)."
   ]
  },
  {
   "cell_type": "code",
   "execution_count": 84,
   "metadata": {
    "id": "YsH847yojp_f"
   },
   "outputs": [
    {
     "name": "stdout",
     "output_type": "stream",
     "text": [
      "T-Statistic: 2.7524\n",
      "P-Value: 0.0063\n"
     ]
    }
   ],
   "source": [
    "married = loans[loans[\"Married\"] == \"Yes\"][\"LoanAmount\"].dropna()\n",
    "unmarried = loans[loans[\"Married\"] == \"No\"][\"LoanAmount\"].dropna()\n",
    "\n",
    "n1, n2 = len(married), len(unmarried)\n",
    "\n",
    "mean1, mean2 = np.mean(married), np.mean(unmarried)\n",
    "std1, std2 = np.std(married, ddof=1), np.std(unmarried, ddof=1)\n",
    "\n",
    "t_stat, p_value = stats.ttest_ind(married, unmarried, equal_var=False)\n",
    "\n",
    "print(f\"T-Statistic: {t_stat:.4f}\")\n",
    "print(f\"P-Value: {p_value:.4f}\")\n",
    "\n",
    "# Reject the null hypothesis: There is a significant difference in LoanAmount between married and unmarried applicants."
   ]
  },
  {
   "cell_type": "markdown",
   "metadata": {
    "id": "BSXvlTdYj2Jx"
   },
   "source": [
    "## Task 12: Comparing Applicant Income by Loan Status\n",
    "\n",
    "**Objective:** Determine if there is a significant difference in the mean income of applicants who were approved for a loan and those who were not.\n",
    "\n",
    "**Attribute to Use:** ApplicantIncome (continuous) and Loan_Status (categorical with two levels: Y and N).\n",
    "\n",
    "# Task 12.1: Calculate a 95% Confidence Interval of Income of those applicants who are approved for a loan.\n",
    "\n"
   ]
  },
  {
   "cell_type": "code",
   "execution_count": 87,
   "metadata": {
    "id": "7sB0yAZRko1E"
   },
   "outputs": [
    {
     "name": "stdout",
     "output_type": "stream",
     "text": [
      "95% Confidence Interval for the mean income of approved loan applicants: (3398.38, 3742.94)\n"
     ]
    }
   ],
   "source": [
    "approved_loans = loans[loans[\"Loan_Status\"] == \"Y\"][\"ApplicantIncome\"].dropna()\n",
    "\n",
    "sample_mean = np.mean(approved_loans)\n",
    "sample_std = np.std(approved_loans, ddof=1)\n",
    "n = len(approved_loans)\n",
    "\n",
    "standard_error = sample_std / np.sqrt(n)\n",
    "\n",
    "t_critical = stats.t.ppf(1 - 0.05 / 2, df=n-1)\n",
    "\n",
    "margin_of_error = t_critical * standard_error\n",
    "\n",
    "lower_bound = sample_mean - margin_of_error\n",
    "upper_bound = sample_mean + margin_of_error\n",
    "\n",
    "print(f\"95% Confidence Interval for the mean income of approved loan applicants: ({lower_bound:.2f}, {upper_bound:.2f})\")"
   ]
  },
  {
   "cell_type": "markdown",
   "metadata": {
    "id": "JrA9dgrykVCs"
   },
   "source": [
    "# Task 13: Comparing Loan Amount by Dependents\n",
    "\n",
    "**Objective:** Determine if there is a significant difference in the mean loan amount requested by applicants with 0 dependents and those with 1 or more dependents.\n",
    "\n"
   ]
  },
  {
   "cell_type": "code",
   "execution_count": 90,
   "metadata": {
    "id": "cmhn9XMmkpTZ"
   },
   "outputs": [
    {
     "name": "stdout",
     "output_type": "stream",
     "text": [
      "T-statistic: -1.4506190656983555\n",
      "P-value: 0.14773089166818548\n"
     ]
    }
   ],
   "source": [
    "loan_amount_dependents_0 = loans[loans[\"Dependents\"] == \"0\"][\"LoanAmount\"].dropna()\n",
    "loan_amount_dependents_1_or_more = loans[loans[\"Dependents\"].isin([\"1\", \"2\", \"3+\"])][\"LoanAmount\"].dropna()\n",
    "\n",
    "t_stat, p_val = stats.ttest_ind(loan_amount_dependents_0, loan_amount_dependents_1_or_more)\n",
    "\n",
    "print(f\"T-statistic: {t_stat}\")\n",
    "print(f\"P-value: {p_val}\")"
   ]
  },
  {
   "cell_type": "markdown",
   "metadata": {
    "id": "huLSqNvhkphr"
   },
   "source": [
    "## Task 14: Comparing Loan Amount by Loan Amount Term\n",
    "\n",
    "\n",
    "**Objective:** Determine if there is a significant difference in the mean loan amount requested by applicants with a loan term of 12 months and those with a loan term of 36 months."
   ]
  },
  {
   "cell_type": "code",
   "execution_count": 98,
   "metadata": {
    "id": "JgDhsRZAksNR"
   },
   "outputs": [
    {
     "name": "stdout",
     "output_type": "stream",
     "text": [
      "T-statistic: nan\n",
      "P-value: nan\n",
      "Number of applicants with term 12: 1\n",
      "Number of applicants with term 36: 1\n",
      "Loan Amount Term 12 Unique Values: [111.]\n",
      "Loan Amount Term 36 Unique Values: [80.]\n"
     ]
    }
   ],
   "source": [
    "loan_amount_term_12 = loans[loans[\"Loan_Amount_Term\"] == 12][\"LoanAmount\"].dropna()\n",
    "loan_amount_term_36 = loans[loans[\"Loan_Amount_Term\"] == 36][\"LoanAmount\"].dropna()\n",
    "\n",
    "t_stat, p_val = stats.ttest_ind(loan_amount_term_12, loan_amount_term_36)\n",
    "\n",
    "print(f\"T-statistic: {t_stat}\")\n",
    "print(f\"P-value: {p_val}\")\n",
    "\n",
    "#Determine NAN is occuring–only 1 applicatant w/ either one\n",
    "print(f\"Number of applicants with term 12: {len(loan_amount_term_12)}\")\n",
    "print(f\"Number of applicants with term 36: {len(loan_amount_term_36)}\")\n",
    "\n",
    "print(f\"Loan Amount Term 12 Unique Values: {loan_amount_term_12.unique()}\")\n",
    "print(f\"Loan Amount Term 36 Unique Values: {loan_amount_term_36.unique()}\")\n"
   ]
  },
  {
   "cell_type": "code",
   "execution_count": null,
   "metadata": {},
   "outputs": [],
   "source": []
  }
 ],
 "metadata": {
  "colab": {
   "provenance": []
  },
  "kernelspec": {
   "display_name": "Python (myenv)",
   "language": "python",
   "name": "myenv"
  },
  "language_info": {
   "codemirror_mode": {
    "name": "ipython",
    "version": 3
   },
   "file_extension": ".py",
   "mimetype": "text/x-python",
   "name": "python",
   "nbconvert_exporter": "python",
   "pygments_lexer": "ipython3",
   "version": "3.13.1"
  }
 },
 "nbformat": 4,
 "nbformat_minor": 4
}
